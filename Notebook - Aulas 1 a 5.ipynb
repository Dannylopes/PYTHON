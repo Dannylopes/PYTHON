{
 "cells": [
  {
   "cell_type": "markdown",
   "metadata": {},
   "source": [
    "# Semana 1"
   ]
  },
  {
   "cell_type": "markdown",
   "metadata": {},
   "source": [
    "## Aula 01 - Conteúdo do Curso\n",
    "\n",
    "O curso será apresentado por mim (Álvaro Justen) e Pedro Burgos e é dividido em\n",
    "4 semanas:\n",
    "\n",
    "- Contextualização, introdução a programação, instalação dos softwares\n",
    "  necessários;\n",
    "- Acesso a bases de dados, estatísticas básicas, criação de bases de dados;\n",
    "- Aprofundamento na linguagem Python, estruturas de dados úteis, reutilização\n",
    "  de código;\n",
    "- Como a Web funciona, captura/extração de dados de site (Web scraping).\n",
    "\n",
    "Esse é um curso introdutório, mostraremos os conceitos de maneira prática para\n",
    "que você tenha um bom embasamento para continuar aprendendo depois dele. A cada\n",
    "semana vamos apresentar um projeto aplicado ao jornalismo para fixar os\n",
    "conceitos aprendidos.\n",
    "\n",
    "### Dicas Para Acompanhar o Curso\n",
    "\n",
    "- É muito importante ter acesso bom à Internet (sem bloqueios) e acesso\n",
    "  administrativo ao computador (para instalar programas);\n",
    "- Separe um tempo todos os dias para fazer as aulas - e só fazer isso durante\n",
    "  esse tempo (nada de mídias sociais, ok?) -, isso lhe ajudará na memorização\n",
    "  dos conceitos;\n",
    "- Digite os comandos! Não copie/cole. Digitar é importante para e memorização;\n",
    "- Interaja com os outros alunos! Utilize a plataforma e as mídias sociais para\n",
    "  aprender conjuntamente (nossas contas no Twitter são:\n",
    "  [@turicas](https://twitter.com/turicas) e\n",
    "  [@burgos](https://twitter.com/burgos)).\n",
    "- Marcaremos alguns encontros presenciais em Curitiba, São Paulo, Rio de\n",
    "  Janeiro e talvez outras cidades! Acompanhe as novidades na plataforma para\n",
    "  conhecer os outros alunos pessoalmente e trocar experiências. ;)"
   ]
  },
  {
   "cell_type": "markdown",
   "metadata": {},
   "source": [
    "## Aula 02 - Contextualização e Instalação\n",
    "\n",
    "### Contextualização\n",
    "\n",
    "O *data pipeline* (ou funil de dados) é a sequência de passos que um jornalista\n",
    "segue para fazer uma reportagem guiada por dados; são eles:\n",
    "\n",
    "- Pergunte\n",
    "- Encontre\n",
    "- Obtenha\n",
    "- Verifique\n",
    "- Limpe\n",
    "- Analise\n",
    "- Apresente\n",
    "\n",
    "Podemos utilizar a programação de computadores para auxiliar/automatizar os\n",
    "processos a partir do \"Obtenha\", principalmente nos casos em que a quantidade\n",
    "de dados é muito grande ou é necessária a repetição de muitas tarefas.  Saber\n",
    "programar é saber dar ordens a um computador, que consegue facilmente executar\n",
    "milhões de instruções a cada segundo.\n",
    "\n",
    "A análise de dados não é algo novo: em 1890, [Herman\n",
    "Hollerith](https://www.census.gov/history/www/census_then_now/notable_alumni/herman_hollerith.html)\n",
    "criou uma máquina (mecânica, não era exatamente um computador) para processar\n",
    "os dados do censo dos Estados Unidos - sem ela os estadunidenses demorariam\n",
    "mais de dez anos (intervalo entre um censo e outro) para analisar esses dados!\n",
    "Com ela, um operador conseguia processar milhares de cartões perfurados por\n",
    "dia, que eram os \"pendrives\" da época.\n",
    "\n",
    "Exemplo de matérias que utilizei programação para auxiliar na coleta e análise\n",
    "de dados: [classificação de mais de 800 mil logradouros brasileiros por\n",
    "gênero](http://www.generonumero.media/como-classificamo\n",
    "-mais-de-800-mil-logradouros-brasileiros-por-genero/), pela [Revista Gênero e\n",
    "Número](http://generonumero.media/).\n",
    "\n",
    "Para instruirmos um computador precisamos falar uma linguagem de programação -\n",
    "e existem centenas delas, cada uma com características específicas. As\n",
    "linguagens de programação são como **ferramentas**: se você possui um prego,\n",
    "utilizará um martelo (que é a ferramenta mais adequada para essa tarefa), porém\n",
    "se possui um parafuso, utilizará uma chave Philips (que são melhores que as de\n",
    "fenda ;).\n",
    "\n",
    "A linguagem que aprenderemos nesse curso é [Python](http://www.python.org/) e\n",
    "ela se destaca por ser fácil de aprender e utilizar, foi criada por um holandês\n",
    "chamado [Guido Van Rossum](https://en.wikipedia.org/wiki/Guido_van_Rossum) no\n",
    "começo da década de 90, é feita de maneira colaborativa (licenciada como\n",
    "software livre). Python é largamente utilizada, possui uma comunidade de\n",
    "desenvolvedores incrível que adora compartilhar código e conhecimento; existem\n",
    "diversos eventos locais/regionais/nacionais em diversos países: procure a\n",
    "comunidade/evento mais próximos e interaja com a galera!\n",
    "\n",
    "\n",
    "### Instalação\n",
    "\n",
    "Entre em [www.python.org](http://www.python.org/), clique em **Download** e\n",
    "baixe a versão 3.6 para seu sistema operacional (está disponível para\n",
    "GNU/Linux, Mac OS X e Windows) - procure pelo arquivo \"executable installer\".\n",
    "\n",
    "> Nota (1): se você utiliza GNU/Linux é provável que o gerenciador de\n",
    "> pacotes/loja de aplicativos de sua distribuição já tenha um pacote chamado\n",
    "> \"python3\" - instale a partir dele, em vez de baixar no site.\n",
    "\n",
    "> Nota (2): se você utiliza Windows, não esqueça de marcar a opção \"Adicionar\n",
    "> ao PATH\" na primeira tela da instalação.\n",
    "\n",
    "Após a instalação precisaremos testá-la para certificarmos de que você tem\n",
    "todos os softwares necessários para o curso. Abra o interpretador de comandos do\n",
    "seu sistema (\"Terminal\" no GNU/Linux e Mac OS X e \"Prompt de Comando\" no\n",
    "Windows). Digite `python3` (GNU/Linux e MAC OS X) ou `python` (Windows) e\n",
    "aperte *Enter*. Caso apareça uma mensagem \"Python 3.6\" e no fim os caracteres\n",
    "\">>>\", significa que você instalou essa versão do Python com sucesso!  Agora,\n",
    "basta digitar `exit()` e apertar *Enter* para sair do Python - mas ainda não\n",
    "feche seu interpretador de comandos.\n",
    "\n",
    "**Caso você tenha dificuldades na instalação, procure ajuda nos fóruns - é\n",
    "imprescindível que essa etapa seja concluída com sucesso.**\n",
    "\n",
    "Após a instalação do Python, instalaremos o Jupyter, que facilitará o processo\n",
    "de desenvolvimento de programas Python. Ainda no seu interpretador de comandos\n",
    "(mas já fora do Python), execute: `pip install jupyter` (digite esse comando\n",
    "e aperte *Enter*).\n",
    "\n",
    "> Nota: o comando acima baixará o Jupyter e todas suas dependências da Internet\n",
    "> e poderá demorar um pouco para finalizar (depende de sua conexão).\n",
    "\n",
    "Após tudo instalado, execute o comando: `jupyter notebook`. Ele irá mostrar um\n",
    "endereço e o abrirá em seu navegador. A interface do Jupyter é acessada pelo\n",
    "navegador: ele é um site, que roda no seu próprio computador. A partir de\n",
    "agora, toda vez que você for fazer programas em Python você precisará do\n",
    "Jupyter Notebook rodando - como tudo já foi instalado, basta abrir seu\n",
    "interpretador de comandos e executar `jupyter notebook`.\n",
    "\n",
    "> Nota: todos os comandos devem ser executados da forma como estão, pois letras\n",
    "> maiúsculas e minículas são interpretadas de maneira diferente."
   ]
  },
  {
   "cell_type": "markdown",
   "metadata": {},
   "source": [
    "## Aula 03 - Lógica de Programação e Primeiros Programas\n",
    "\n",
    "Os programas de computador são compostos por algoritmos, que são um conjunto de\n",
    "instruções para o processador, são como o \"modo de preparo\" das receitas\n",
    "culinárias. O funil de dados funciona como se fosse um algoritmo (bem genérico,\n",
    "nesse caso): é uma série de passos para atingir um objetivo.\n",
    "\n",
    "Imagine que uma instrução é uma frase que começa com um verbo e dá uma ordem ao\n",
    "processador; ela precisa ser simples, passo-a-passo, não ambígua e\n",
    "razoavelmente detalhada.  Exemplos de instruções do nosso dia-a-dia: inspire\n",
    "por 5 segundos, feche os olhos.\n",
    "\n",
    "Vamos a um exercício: escreva um algoritmo para descrever o processo de escovar\n",
    "os dentes! Utilize o editor de textos que preferir (Microsoft Word, LibreOffice\n",
    "Writer etc.) e escreva em Português frases simples, começadas por verbo\n",
    "(instruções) com cada passo do processo de escovar os dentes.\n",
    "\n",
    "Uma possível solução seria:\n",
    "\n",
    "```\n",
    "Se o tubo de pasta de dentes estiver vazio:\n",
    "\tPegar um tubo novo na dispensa\n",
    "Senão:\n",
    "\tPegar o tubo de pasta de dentes no armário\n",
    "Abrir o tubo\n",
    "Pegar a escova de dentes\n",
    "Colocar pasta na escova\n",
    "Fechar o tubo\n",
    "Abrir a torneira\n",
    "Molhar a escova por 2 segundos\n",
    "Fechar a torneira\n",
    "Levar a escova à boca\n",
    "Repetir para cada dente:\n",
    "\tMovimentar a escova de maneira circular\n",
    "\tIr para o próximo dente\n",
    "Escovar a língua\n",
    "Abrir a torneira\n",
    "Enquanto a boca estiver com pasta de dentes:\n",
    "\tEnxaguar a boca\n",
    "Limpar a escova\n",
    "Fechar a torneira\n",
    "```\n",
    "\n",
    "Pode ser que sua solução tenha ficado bastante diferente dessa, mas não tem\n",
    "problema! Como a linguagem que utilizamos não possui muitas regras e\n",
    "restrições, a possibilidade de existirem soluções completamente diferentes é\n",
    "maior - em uma linguagem de programação isso não acontece nessa escala, dado\n",
    "que as regras são mais restritas.\n",
    "\n",
    "Repare em alguns detalhes:\n",
    "\n",
    "- Utilizamos nomes de alguns objetos, como \"tubo de pasta de dentes\" e \"escova\n",
    "  de dentes\". Na programação chamamos esses nomes de \"variáveis\" e elas\n",
    "  referenciam uma determinada informação guardada na memória do computador;\n",
    "- Ainda que você tivesse esquecido de especificar a instrução de fechar a\n",
    "  torneira no final do algoritmo, ele cumpriria o papel de escovar os dentes,\n",
    "  porém essa não seria uma boa prática ecologicamente falando, certo? Essa\n",
    "  característica também acontece com os programas: programadores podem ser mais\n",
    "  ou menos cuidadosos com o \"ambiente\" (memória do computador, tempo de\n",
    "  processamento etc.);\n",
    "- Talvez você tenha especificado as instruções em maior ou menor detalhe, por\n",
    "  exemplo: utilizar várias instruções que juntas significam \"abrir o tubo\" ou\n",
    "  utilizar apenas uma instrução para \"abrir o tubo, pegar a escova de dentes,\n",
    "  colocar pasta na escova, fechar o tubo\". Nas linguagens de programação\n",
    "  chamamos essa granularidade de \"nível\": uma linguagem é de nível \"baixo\"\n",
    "  quando exige que você especifique cada detalhe e de nível \"alto\" quando você\n",
    "  dá instruções mais genéricas e ela dá conta de traduzí-las em instruções mais\n",
    "  detalhadas. Python é uma linguagem de altíssimo nível, que gera uma alta\n",
    "  produtividade;\n",
    "- Foram utilizadas estruturas de controle de fluxo: \"e se...\" e \"enquanto...\",\n",
    "  que mudam a forma como o programa será executado, fazendo com que algumas\n",
    "  instruções se repitam, sejam ou não executadas etc.\n",
    "\n",
    "O processo de criação de um programa poderia ser resumir a:\n",
    "\n",
    "- Entender o problema\n",
    "- Sistematizar o algoritmo\n",
    "- Escrever o código\n",
    "- Executar/rodar o programa\n",
    "- Verificar se o comportamento corresponde ao esperado\n",
    "\n",
    "\n",
    "### Primeiro Programa em Python\n",
    "\n",
    "Execute `jupyter notebook` em seu interpretador de comandos, espere ele abrir\n",
    "no navegador e dentro dele clique em \"New\" e depois em \"Python 3\". A partir\n",
    "desse momento, todos os comandos digitados no notebook serão comandos Python!\n",
    "Vamos ao nosso primeiro programa:\n"
   ]
  },
  {
   "cell_type": "code",
   "execution_count": 1,
   "metadata": {},
   "outputs": [
    {
     "name": "stdout",
     "output_type": "stream",
     "text": [
      "Olá, Knight\n"
     ]
    }
   ],
   "source": [
    "print(\"Olá, Knight\")"
   ]
  },
  {
   "cell_type": "markdown",
   "metadata": {},
   "source": [
    "Após digitar o código basta apertar *Shift + Enter* e o resultado aparecerá\n",
    "logo abaixo do código. Uma outra opção é apertar o botão *Run*. Em um Jupyter\n",
    "Notebook você pode ter diversas \"células\" (caixas de texto) com códigos\n",
    "diferentes. Caso queira alterar algum código basta clicar na célula, fazer a\n",
    "alteração e executá-lo novamente (teclando *Shift + Enter* ou clicando em\n",
    "*Run*).\n",
    "\n",
    "A instrução `print` que utilizamos acima mostra um texto na tela; todos os\n",
    "textos que especificarmos em Python deverão estar entre aspas.\n",
    "\n",
    "> Curiosidade: `print` significa \"imprimir\". Essa instrução foi criada na época\n",
    "> em que os computadores não possuíam monitores e a forma de saída padrão das\n",
    "> informações era a impressora.\n",
    "\n",
    "\n",
    "### Perguntando o Nome\n",
    "\n",
    "Vamos perguntar o nome do usuário do programa e armazená-lo em uma variável\n",
    "chamada \"nome\". A instrução `input` faz com que o Python pergunte alguma\n",
    "informação ao usuário do programa, que deve responder digitando e apertando\n",
    "*Enter*.\n",
    "\n",
    "Digite na segunda célula e execute:\n"
   ]
  },
  {
   "cell_type": "code",
   "execution_count": 2,
   "metadata": {},
   "outputs": [
    {
     "name": "stdout",
     "output_type": "stream",
     "text": [
      "Qual seu nome? Álvaro\n",
      "Olá, Álvaro\n"
     ]
    }
   ],
   "source": [
    "nome = input('Qual seu nome? ')\n",
    "print('Olá, ' + nome)"
   ]
  },
  {
   "cell_type": "markdown",
   "metadata": {},
   "source": [
    "No lado direito da primeira linha temos a instrução que pergunta o nome do\n",
    "usuário. Essa instrução devolve o valor digitado e o sinal de \"=\" a armazena na\n",
    "memória do computador, associando a ela o nome \"nome\". Na segunda linha\n",
    "saudamos o usuário pelo nome e utilizamos o \"+\" para juntar os textos \"Olá, \" e\n",
    "o que está contido na variável \"nome\".\n",
    "\n",
    "Repare que \"nome\" foi um nome inventado por mim, não pelo Python. Poderíamos\n",
    "escolher um outro, por exemplo:\n"
   ]
  },
  {
   "cell_type": "code",
   "execution_count": 3,
   "metadata": {},
   "outputs": [
    {
     "name": "stdout",
     "output_type": "stream",
     "text": [
      "Qual seu nome? Álvaro\n",
      "Olá, Álvaro\n"
     ]
    }
   ],
   "source": [
    "nome_do_usuario = input('Qual seu nome? ')\n",
    "print('Olá, ' + nome_do_usuario)"
   ]
  },
  {
   "cell_type": "markdown",
   "metadata": {},
   "source": [
    "Toda variável deve começar com letras ou \"\\_\" (*underscore*) e os outros caracteres podem ser\n",
    "letras, \"\\_\" e números, ou seja, espaços não são permitidos! Ah, atente-se às\n",
    "maiúsculas e minúsculas: em Python, `nome_do_usuario` é diferente de\n",
    "`Nome_do_Usuario`. Por convenção utilizamos nomes de variáveis minúsculas, com\n",
    "as palavras separadas com \"\\_\".\n",
    "\n",
    "Além das instruções podemos adicionar comentários ao nosso código: são textos\n",
    "quem explicam o funcionamento do código. Todos os comentários iniciam com\n",
    "\"#\": Python irá ignorar tudo que vem depois desse símbolo até o fim da linha.\n",
    "Vamos adicionar comentários ao código acima:\n",
    "\n"
   ]
  },
  {
   "cell_type": "code",
   "execution_count": 4,
   "metadata": {},
   "outputs": [
    {
     "name": "stdout",
     "output_type": "stream",
     "text": [
      "Qual seu nome? Álvaro\n",
      "Olá, Álvaro\n"
     ]
    }
   ],
   "source": [
    "nome_do_usuario = input('Qual seu nome? ')  # Pede informação ao usuário\n",
    "print('Olá, ' + nome_do_usuario)  # Mostra saudação com o nome"
   ]
  },
  {
   "cell_type": "markdown",
   "metadata": {},
   "source": [
    "A partir de agora você pode utilizar os comentários em seus próximos programas!"
   ]
  },
  {
   "cell_type": "markdown",
   "metadata": {},
   "source": [
    "## Aula 04 - Tipos de Dados\n",
    "\n",
    "É muito importante entender a diferença entre os tipos de dados, afinal uma das\n",
    "maiores aplicações da programação no jornalismo é justamente captura e análise\n",
    "de dados.\n",
    "\n",
    "> Nota: utilize o Jupyter Notebook em seu próprio computador e execute cada um\n",
    "> dos exemplos mostrados aqui. Para facilitar a memorização dos comandos, **não\n",
    "> copie e cole** código: digite cada letra, execute e, caso aconteça algum\n",
    "> erro, verifique o que você digitou errado para aprender a maneira correta.\n",
    "\n",
    "Vamos criar um programa simples para somar dois números:\n"
   ]
  },
  {
   "cell_type": "code",
   "execution_count": 5,
   "metadata": {},
   "outputs": [
    {
     "name": "stdout",
     "output_type": "stream",
     "text": [
      "Digite um número: 42\n",
      "Digite outro número: 10\n",
      "4210\n"
     ]
    }
   ],
   "source": [
    "valor1 = input('Digite um número: ')\n",
    "valor2 = input('Digite outro número: ')\n",
    "print(valor1 + valor2)"
   ]
  },
  {
   "cell_type": "markdown",
   "metadata": {},
   "source": [
    "Ao executar o programa acima e responder às duas perguntas - digamos que eu\n",
    "tenha respondido `42` e `10` - veremos um resultado inesperado na tela: `4210`;\n",
    "o Python juntou os dois números, em vez de somá-los. O programa está correto,\n",
    "porque não houve erro em sua execução, ou seja, escrevemos as instruções dentro\n",
    "da sintaxe da linguagem, mas definitivamente não fez o que esperávamos! Esse é\n",
    "um **erro de lógica**.\n",
    "\n",
    "A instrução `input` acima nos devolve sempre um texto e o operador \"+\" junta\n",
    "esses dois textos. Quer um exemplo? Responda \"Oi, \" na primeira pergunta e\n",
    "\"Python\" na segunda: o resultado será \"Oi, Python\". O nome técnico para\n",
    "variáveis que armazenam textos é \"string\" e no Python abreviamos e chamamos de\n",
    "`str`. Em nossos programas, tudo que colocamos entre aspas (sejam elas simples\n",
    "ou duplas) são strings.\n",
    "\n",
    "O \"+\" pode significar a soma aritmética também, mas é necessário que as\n",
    "variáveis que usarmos sejam números. Para que nosso programa funcione como\n",
    "esperávamos devemos converter o que a instrução `input` nos devolve para\n",
    "números inteiros - vamos utilizar a instrução `int` para isso:\n"
   ]
  },
  {
   "cell_type": "code",
   "execution_count": 6,
   "metadata": {},
   "outputs": [
    {
     "name": "stdout",
     "output_type": "stream",
     "text": [
      "Digite um número: 42\n",
      "Digite outro número: 10\n",
      "52\n"
     ]
    }
   ],
   "source": [
    "valor1 = input('Digite um número: ')\n",
    "valor2 = input('Digite outro número: ')\n",
    "print(int(valor1) + int(valor2))"
   ]
  },
  {
   "cell_type": "markdown",
   "metadata": {},
   "source": [
    "Dessa forma, o resultado de `int(valor1)` será somado ao resultado de\n",
    "`int(valor2)` e então o valor final será exibido na tela. Note que\n",
    "nesse caso as variáveis `valor1` e `valor2` continuam sendo strings\n",
    "e convertemos apenas para fazer a soma, na terceira linha do programa.\n",
    "Alternativamente, poderíamos armazenar os valores já convertidos nas\n",
    "variáveis, daí a conversão durante o `print` torna-se desnecessária:"
   ]
  },
  {
   "cell_type": "code",
   "execution_count": 7,
   "metadata": {},
   "outputs": [
    {
     "name": "stdout",
     "output_type": "stream",
     "text": [
      "Digite um número: 42\n",
      "Digite outro número: 10\n",
      "52\n"
     ]
    }
   ],
   "source": [
    "valor1 = int(input('Digite um número: '))\n",
    "valor2 = int(input('Digite outro número: '))\n",
    "print(valor1 + valor2)"
   ]
  },
  {
   "cell_type": "markdown",
   "metadata": {},
   "source": [
    "Note que existem várias maneiras de resolver um mesmo problema.\n",
    "\n",
    "Você lembra das funções durante as aulas de Matemática, como `g(x)`e\n",
    "`f(g(x))`? Foi exatamente o que fizemos acima! A expressão `int(input('...'))`\n",
    "é totalmente equivalente a `f(g(x))`. Na programação também chamamos de função\n",
    "essas instruções que são seguidas de parenteses! A partir de agora as chamarei\n",
    "de funções em vez de instruções, ok?\n",
    "\n",
    "Recapitulando o fluxo do programa:\n",
    "\n",
    "- A função `input` recebe um texto, mostra esse texto para o usuário, espera\n",
    "  o usuário digitar algo e apertar *Enter*; após esse processo ela nos devolve\n",
    "  uma string com o conteúdo que o usuário digitou;\n",
    "- A função `int` recebe um texto e nos devolve o número inteiro correspondente\n",
    "  àquele texto (exemplo: `int('42')` nos devolve `42`);\n",
    "- No programa acima estamos pegando a resposta de `input`, passando para `int`\n",
    "  e depois armazenando nas variáveis `valor1` e `valor2`.\n",
    "\n",
    "Tente colocar um valor com casas decimais no programa acima e note que ele não\n",
    "funcionará. O resultado será algo como:\n",
    "`ValueError: invalid literal for int() with base 10: '3.14'`. Isso acontece\n",
    "porque a função `int` só aceita textos que contém dígitos numéricos.\n",
    "\n",
    "Além dos números inteiros Python suporta também números racionais,\n",
    "representados pelo nome `float` (exemplo: `3.14`) e números complexos,\n",
    "representados por `complex` (exemplo: `2 + 1.3j`). Note que utilizamos o ponto\n",
    "e não a vírgula como separador de decimais.\n",
    "\n",
    "Podemos, então, trocar `int` por `float` para que nosso programa suporte\n",
    "números com casas decimais:"
   ]
  },
  {
   "cell_type": "code",
   "execution_count": 8,
   "metadata": {},
   "outputs": [
    {
     "name": "stdout",
     "output_type": "stream",
     "text": [
      "Digite um número: 3.14\n",
      "Digite outro número: 20\n",
      "23.14\n"
     ]
    }
   ],
   "source": [
    "valor1 = float(input('Digite um número: '))\n",
    "valor2 = float(input('Digite outro número: '))\n",
    "print(valor1 + valor2)"
   ]
  },
  {
   "cell_type": "markdown",
   "metadata": {},
   "source": [
    "Com os tipos de dados numéricos conseguimos fazer as seguintes operações\n",
    "artiméticas:\n",
    "\n",
    "- Soma: `+`\n",
    "- Subtração: `-`\n",
    "- Multiplicação: `*`\n",
    "- Divisão: `/`\n",
    "- Exponenciação: `**`\n",
    "- Resto da divisão inteira: `%`\n",
    "- Divisão inteira: `//`\n",
    "\n",
    "Além disso, a utilização de parenteses muda a precedência das operações,\n",
    "exatamente como na Matemática! Exemplo: `(2 + 5) * 6` resulta em `42` (nesse\n",
    "caso, primeiro é efetuada a soma e depois a multiplicação).\n",
    "\n",
    "Agora vamos a um exercício: altere o programa acima para mostrar a média dos\n",
    "dois números racionais, em vez da soma.\n",
    "\n",
    "Resolução:"
   ]
  },
  {
   "cell_type": "code",
   "execution_count": 9,
   "metadata": {},
   "outputs": [
    {
     "name": "stdout",
     "output_type": "stream",
     "text": [
      "Digite um número: 20.5\n",
      "Digite outro número: 10.5\n",
      "15.5\n"
     ]
    }
   ],
   "source": [
    "valor1 = float(input('Digite um número: '))\n",
    "valor2 = float(input('Digite outro número: '))\n",
    "print((valor1 + valor2) / 2)  # a média de 2 números é a soma dividida por 2"
   ]
  },
  {
   "cell_type": "markdown",
   "metadata": {},
   "source": [
    "Nós poderíamos melhorar um pouco nosso programa criando uma variável chamada\n",
    "`media`, dessa forma ficaria claro que a expressão dentro do `print` é a média\n",
    "de dois números:"
   ]
  },
  {
   "cell_type": "code",
   "execution_count": 10,
   "metadata": {},
   "outputs": [
    {
     "name": "stdout",
     "output_type": "stream",
     "text": [
      "Digite um número: 20.5\n",
      "Digite outro número: 10.5\n",
      "15.5\n"
     ]
    }
   ],
   "source": [
    "valor1 = float(input('Digite um número: '))\n",
    "valor2 = float(input('Digite outro número: '))\n",
    "media = (valor1 + valor2) / 2\n",
    "print(media)"
   ]
  },
  {
   "cell_type": "markdown",
   "metadata": {},
   "source": [
    "Ambos programas possuem o mesmo resultado, mas o segundo está mais legível.\n",
    "Legibilidade do código é uma característica **muito importante** na\n",
    "programação, pois agiliza o entendimento do código, fazendo com que possamos\n",
    "modificar programas com mais rapidez e até evitando possíveis falhas.\n",
    "\n",
    "Poderíamos alterar ainda mais o programa para que a mensagem exibida ao usuário\n",
    "seja um pouco melhor:"
   ]
  },
  {
   "cell_type": "code",
   "execution_count": 11,
   "metadata": {},
   "outputs": [
    {
     "name": "stdout",
     "output_type": "stream",
     "text": [
      "Digite um número: 20.5\n",
      "Digite outro número: 10.5\n",
      "A média é: 15.5\n"
     ]
    }
   ],
   "source": [
    "valor1 = float(input('Digite um número: '))\n",
    "valor2 = float(input('Digite outro número: '))\n",
    "media = (valor1 + valor2) / 2\n",
    "print('A média é: ' + str(media))"
   ]
  },
  {
   "cell_type": "markdown",
   "metadata": {},
   "source": [
    "Repare que estamos convertendo `media` para string (usando a função `str`) e\n",
    "então juntando a string resultante à string `'A média é: '` e com isso criamos\n",
    "uma string contendo essa frase com o resultado do cálculo.\n",
    "\n",
    "As estruturas de dados são parte importantíssima dos programas. Na próxima\n",
    "semana aprenderemos outras dessas estruturas e como utilizá-las para manipular\n",
    "bases de dados! Mas a semana ainda não acabou: na próxima aula aprenderemos\n",
    "a tomar decisões em nossos programas."
   ]
  },
  {
   "cell_type": "markdown",
   "metadata": {},
   "source": [
    "## Aula 05 - Controle de Fluxo\n",
    "\n",
    "Nessa aula vamos aprender uma das maneiras de fazer controle de fluxo em nossos\n",
    "programas. O controle de fluxo dita a ordem em que as instruções serão\n",
    "executadas, exemplos:\n",
    "\n",
    "- Dada uma determinada condição, gostaríamos de executar certa instrução, porém\n",
    "  caso essa condição não seja satisfeita, gostaríamos de executar outra\n",
    "  instrução (como no algoritmo para escovar os dentes: se o tubo estiver vazio,\n",
    "  busque na dispensa, senão busque no armário);\n",
    "- Enquanto uma condição for satisfeita, execute determinada instrução (como no\n",
    "  algoritmo para escovar os dentes: enquanto a escova não passar por cada\n",
    "  dente, faça movimentos circulares e vá para o próximo dente).\n",
    "\n",
    "Vamos a um exemplo de código: pediremos que o usuário digite um valor e,\n",
    "dependendo do valor digitado iremos mostrar uma mensagem ou outra:\n",
    "\n"
   ]
  },
  {
   "cell_type": "code",
   "execution_count": 12,
   "metadata": {},
   "outputs": [
    {
     "name": "stdout",
     "output_type": "stream",
     "text": [
      "Digite um número: 9000\n",
      "Valor muito baixo =/\n"
     ]
    }
   ],
   "source": [
    "valor = float(input('Digite um número: '))\n",
    "if valor > 9000:\n",
    "    print('OVER 9K!')\n",
    "else:\n",
    "    print('Valor muito baixo =/')"
   ]
  },
  {
   "cell_type": "markdown",
   "metadata": {},
   "source": [
    "Tente rodar o programa mais de uma vez e digite números distintos!\n",
    "\n",
    "Usamos o `if` para verificar o valor que o usuário digitou e para isso\n",
    "utilizamos uma **expressão booleana** (`valor > 9000`), que é uma expressão que\n",
    "devolverá um valor verdadeiro (`True`) ou falso (`False`).\n",
    "\n",
    "Não esqueça de colocar as chamadas para a função `print` mais à direita. Esse\n",
    "espaçamento para a direita chama-se **indentação** e serve para sinalizar ao\n",
    "Python que essa instrução deve ser executada apenas se a condição dentro do\n",
    "`if` for verdadeira; o mesmo acontece com o `else`, porém nesse caso a\n",
    "instrução dentro dele será executada apenas se a condição do `if` for falsa.\n",
    "O `else` é opcional.\n",
    "\n",
    "Você pode colocar quantas instruções quiser dentro do `if` e dentro do `else`,\n",
    "mas é necessário manter o mesmo nível de indentação. E caso queira seguir o\n",
    "fluxo do programa (fora do `if` e  do `else`), basta voltar um nível de\n",
    "indentação, exemplo:\n",
    "\n"
   ]
  },
  {
   "cell_type": "code",
   "execution_count": 16,
   "metadata": {},
   "outputs": [
    {
     "name": "stdout",
     "output_type": "stream",
     "text": [
      "Digite um número: 9001\n",
      "OVER 9K!\n",
      "Esse texto também será exibido se valor > 9000.\n",
      "Digite um outro valor: 42\n"
     ]
    }
   ],
   "source": [
    "valor = float(input('Digite um número: '))  # linha não indentada\n",
    "if valor > 9000:  # linha não indentada\n",
    "    print('OVER 9K!')  # linha indentada, dentro do if\n",
    "    print('Esse texto também será exibido se valor > 9000.')  # indentada, dentro do if\n",
    "else:  # linha não indentada\n",
    "    print('Valor muito baixo =/')  # indentada, dentro do else\n",
    "    print('Esse texto também será exibido se valor <= 9000.')  # indentada, dentro do else\n",
    "valor2 = float(input('Digite um outro valor: '))  # não indentada"
   ]
  },
  {
   "cell_type": "markdown",
   "metadata": {},
   "source": [
    "\n",
    "No programa acima a linha `valor2 = ...` será executada independente de `valor`\n",
    "ser maior que 9000.\n",
    "\n",
    "Além do operador `>` podemos utilizar vários outros operadores que nos devolvem\n",
    "`True` ou `False`, como:\n",
    "\n",
    "- Menor que: `<`\n",
    "- Maior que: `>`\n",
    "- Menor ou igual a: `<=`\n",
    "- Maior ou igual a: `>=`\n",
    "- Igual: `==`\n",
    "- Diferente: `!=`\n",
    "- Ou: `or`\n",
    "- E: `and`\n",
    "- Negação: `not`\n",
    "\n",
    "Repare no igual: utilizamos **dois símbolos** para verificar a igualdade, que é\n",
    "diferente de quando queremos criar uma variável (o `=` é o operador de\n",
    "atribuição a uma variável, já o `==` é o operador de verificação de igualdade).\n",
    "\n",
    "`or`, `and` e `not` podem ser usados para agrupar expressões booleanas, dessa\n",
    "forma conseguimos fazer diversas verificações em somente um `if`. Vamos\n",
    "modificar o programa para imprimir \"OVER 9K!\" apenas se o usuário digitar dois\n",
    "valores acima de 9000:"
   ]
  },
  {
   "cell_type": "code",
   "execution_count": 14,
   "metadata": {},
   "outputs": [
    {
     "name": "stdout",
     "output_type": "stream",
     "text": [
      "Digite um número: 9999\n",
      "Digite outro número: 9000\n",
      "Valor muito baixo =/\n"
     ]
    }
   ],
   "source": [
    "valor1 = float(input('Digite um número: '))\n",
    "valor2 = float(input('Digite outro número: '))\n",
    "if valor1 > 9000 and valor2 > 9000:\n",
    "    print('OVER 9K!')\n",
    "else:\n",
    "    print('Valor muito baixo =/')"
   ]
  },
  {
   "cell_type": "markdown",
   "metadata": {},
   "source": [
    "Agora temos duas expressões booleanas dentro do `if` e o `and` vai juntá-las,\n",
    "devolvendo um novo valor (também `True` ou `False`). O padrão\n",
    "`expressao1 and expressao2` devolverá `True` apenas se a `expressao1` for\n",
    "`True` **e** a `expressao2` for `True`. Tente executar o programa acima com\n",
    "os seguintes números e verifique o resultado:\n",
    "\n",
    "- `9000` e `8999` (muito baixo)\n",
    "- `9000` e `9999` (muito baixo)\n",
    "- `9998` e `9000` (muito baixo)\n",
    "- `9998` e `9999` (OVER 9K!)\n",
    "\n",
    "Agora vamos a um exercício: modifique o programa da média para que ele se\n",
    "recuse a utilizar números negativos (ou seja, se um dos números for menor que\n",
    "zero).\n",
    "\n",
    "Vamos à resolução:"
   ]
  },
  {
   "cell_type": "code",
   "execution_count": 15,
   "metadata": {},
   "outputs": [
    {
     "name": "stdout",
     "output_type": "stream",
     "text": [
      "Digite um número: -2\n",
      "Digite outro número: 10\n",
      "Me recuso!\n"
     ]
    }
   ],
   "source": [
    "valor1 = float(input('Digite um número: '))\n",
    "valor2 = float(input('Digite outro número: '))\n",
    "if valor1 < 0 or valor2 < 0:\n",
    "    print('Me recuso!')\n",
    "else:\n",
    "    media = (valor1 + valor2) / 2\n",
    "    print('A média é: ' + str(media))"
   ]
  },
  {
   "cell_type": "markdown",
   "metadata": {},
   "source": [
    "Repare que dessa vez utilizamos o `or` em vez do `and`, pois queremos que o\n",
    "programa se recuse caso `valor1` seja negativo **ou** caso `valor2` seja\n",
    "negativo. Teste o programa com os seguintes números:\n",
    "\n",
    "- `-2` e `-10` (deve se recusar)\n",
    "- `-2` e `10` (deve se recusar)\n",
    "- `2` e `-10` (deve se recusar)\n",
    "- `2` e `10` (deve calcular)\n",
    "\n",
    "Nessa aula aprendemos a tomar decisões em nossos programas com `if` e `else`!\n",
    "Existem outras formas mais complexas de fazer controle de fluxo e as\n",
    "aprenderemos ao longo das próximas semanas. :)"
   ]
  },
  {
   "cell_type": "code",
   "execution_count": null,
   "metadata": {},
   "outputs": [],
   "source": []
  }
 ],
 "metadata": {
  "kernelspec": {
   "display_name": "Python 3",
   "language": "python",
   "name": "python3"
  },
  "language_info": {
   "codemirror_mode": {
    "name": "ipython",
    "version": 3
   },
   "file_extension": ".py",
   "mimetype": "text/x-python",
   "name": "python",
   "nbconvert_exporter": "python",
   "pygments_lexer": "ipython3",
   "version": "3.6.2"
  }
 },
 "nbformat": 4,
 "nbformat_minor": 2
}
