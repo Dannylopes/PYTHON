{
 "cells": [
  {
   "cell_type": "markdown",
   "metadata": {},
   "source": [
    "## Brincando com strings: input, variáveis, e caminhos de programação"
   ]
  },
  {
   "cell_type": "markdown",
   "metadata": {},
   "source": [
    "Você já deve ter visto alguma matéria sobre uma \"extensão do Chrome\" muda alguma coisa nas páginas que lemos na internet. São plug-ins que podem substituir [imagens de Trump por gatinhos](https://www.huffingtonpost.com/entry/google-chrome-extension-replaces-picture-trump-kittens_us_58500b20e4b0bd9c3dfebd4e) ou, mais recentemente, converter valores em reais por \"[salários do Neymar](https://g1.globo.com/tecnologia/noticia/programa-converte-valores-monetarios-para-salarios-de-neymar.ghtml)\".\n",
    "\n",
    "Essas extensões são pequenos programas escritos em outra linguagem (JavaScript, no caso), mas a *lógica* computacional funciona para qualquer uma delas. Tão ou mais importante que saber a sintaxe, os comandos de uma linguagem, é saber quais os passos para chegar a um resultado em um programa. Vamos praticar como destrinchar um processo em sub-processos menores, e atacar um de cada vez. \n",
    "\n",
    "No caso dessas extensões, os programas devem ter que, nessa ordem: \n",
    "* extrair texto de uma página, e armazenar esse texto em uma variável;\n",
    "* Criar uma forma de encontrar um dado valor (um \"match\") no texto;\n",
    "* Transformar texto em número;\n",
    "* Fazer alguma operação com esse novo número -- por exemplo pegar uma cifra em R$ e mudar para \"salários do Neymar\" ou \"[apartamentos do Geddel](https://g1.globo.com/politica/noticia/pf-ve-digitais-de-geddel-em-apartamento-onde-foram-achados-r-51-milhoes-em-dinheiro-vivo.ghtml)\".\n",
    "* substituir o valor antigo por outro.\n",
    "\n",
    "\n",
    "Há várias formas de escrever um programa que faz isso em Python. Ao longo do curso, nós ensinaremos todos esses passos. Nós já aprendemos a **declarar uma variável** e **somar strings**."
   ]
  },
  {
   "cell_type": "markdown",
   "metadata": {},
   "source": [
    "----"
   ]
  },
  {
   "cell_type": "markdown",
   "metadata": {},
   "source": [
    "## Passo 1: Extrair um texto\n",
    "Ache uma manchete qualquer que tenha um nome próprio. \n",
    "Copie o texto e coloque entre aspas, declarando uma variável."
   ]
  },
  {
   "cell_type": "code",
   "execution_count": 23,
   "metadata": {},
   "outputs": [],
   "source": [
    "manchete = 'Em noite de vitórias democratas, Bill de Blasio é reeleito em Nova York'"
   ]
  },
  {
   "cell_type": "markdown",
   "metadata": {},
   "source": [
    "## Passo 2: Encontrar algo no texto\n",
    "Vamos supor que queremos substituir \"Bill de Blasio\". Precisamos nos certificar que o texto está lá."
   ]
  },
  {
   "cell_type": "code",
   "execution_count": 24,
   "metadata": {},
   "outputs": [
    {
     "data": {
      "text/plain": [
       "True"
      ]
     },
     "execution_count": 24,
     "metadata": {},
     "output_type": "execute_result"
    }
   ],
   "source": [
    "'Bill de Blasio' in manchete"
   ]
  },
  {
   "cell_type": "markdown",
   "metadata": {},
   "source": [
    "## Passo 3: \n",
    "Substituir um valor por outro:\n"
   ]
  },
  {
   "cell_type": "code",
   "execution_count": 27,
   "metadata": {},
   "outputs": [
    {
     "data": {
      "text/plain": [
       "'Em noite de vitórias democratas, Pedro Burgos é reeleito em Nova York'"
      ]
     },
     "execution_count": 27,
     "metadata": {},
     "output_type": "execute_result"
    }
   ],
   "source": [
    "manchete = 'Em noite de vitórias democratas, Bill de Blasio é reeleito em Nova York'\n",
    "prefeito = 'Bill de Blasio'\n",
    "prefeito_dos_sonhos = 'Pedro Burgos'\n",
    "manchete.replace(prefeito, prefeito_dos_sonhos)"
   ]
  },
  {
   "cell_type": "markdown",
   "metadata": {},
   "source": [
    "`replace()` é uma \"built-in function' da classe `string`\n",
    "Em outras palavras, você pode usar qualquer string, ou conjunto de letras e algarismos em Python, e \"chamar\" uma operação nela. Há dezenas de operações possíveis, e vamos entrar em mais detalhes mais adiante. Você pode ler sobre elas na [documentação do Python](https://docs.python.org/3/library/stdtypes.html?highlight=replace#str.replace). "
   ]
  },
  {
   "cell_type": "code",
   "execution_count": 31,
   "metadata": {},
   "outputs": [
    {
     "name": "stdout",
     "output_type": "stream",
     "text": [
      "Copie e cole uma manchete que mencione \"presidente\" aqui: Presidente também fala em redistribuir pastas para aplacar insatisfação de outros partidos\n",
      "Presidente também fala em redistribuir pastas para aplacar insatisfação de outros partidos\n"
     ]
    }
   ],
   "source": [
    "# Sistematizando um programinha\n",
    "manchete = input('Copie e cole uma manchete que mencione \"presidente\" aqui: ')\n",
    "novo_presidente = 'presidente Thomas J. Whitmore' # link: https://www.youtube.com/watch?v=QoLywiaM6PA\n",
    "print(manchete.replace('presidente', novo_presidente))"
   ]
  },
  {
   "cell_type": "markdown",
   "metadata": {},
   "source": [
    "## Passo 4: \n",
    "Consertar os bugs. Investigue o problema anterior. Por que não funcionou como esperado?"
   ]
  },
  {
   "cell_type": "code",
   "execution_count": 32,
   "metadata": {},
   "outputs": [
    {
     "data": {
      "text/plain": [
       "False"
      ]
     },
     "execution_count": 32,
     "metadata": {},
     "output_type": "execute_result"
    }
   ],
   "source": [
    "'presidente' == 'Presidente'"
   ]
  },
  {
   "cell_type": "code",
   "execution_count": 33,
   "metadata": {},
   "outputs": [
    {
     "data": {
      "text/plain": [
       "True"
      ]
     },
     "execution_count": 33,
     "metadata": {},
     "output_type": "execute_result"
    }
   ],
   "source": [
    "'presidente' == 'Presidente'.lower()"
   ]
  },
  {
   "cell_type": "markdown",
   "metadata": {},
   "source": [
    "Assim como `.replace()`, `lower()` é uma função de qualquer `string`. No caso, tira qualquer maiúscula.\n",
    "Nosso programa pode ficar assim:"
   ]
  },
  {
   "cell_type": "code",
   "execution_count": 36,
   "metadata": {},
   "outputs": [
    {
     "name": "stdout",
     "output_type": "stream",
     "text": [
      "Copie e cole uma manchete que mencione \"presidente\" aqui: Presidente também fala em redistribuir pastas para aplacar insatisfação de outros partidos\n",
      "Presidente selina meyer também fala em redistribuir pastas para aplacar insatisfação de outros partidos\n"
     ]
    }
   ],
   "source": [
    "manchete = input('Copie e cole uma manchete que mencione \"presidente\" aqui: ')\n",
    "manchete_caixa_baixa = manchete.lower()\n",
    "nova_presidente = 'presidente Selina Meyer'\n",
    "nova_manchete = manchete_caixa_baixa.replace('presidente', nova_presidente)\n",
    "print(nova_manchete.capitalize())"
   ]
  },
  {
   "cell_type": "markdown",
   "metadata": {},
   "source": [
    "## Leitura bônus:\n",
    "\n",
    "**Algoritmos**\n",
    "\n",
    "Se a habilidade de resolver problemas é uma parte central da ciência da computação, então as soluções que você cria por meio do processo de resolução de problemas também são importantes. Na ciência da computação, essas soluções são conhecidas como algoritmos. Um algoritmo é uma lista passo-a-passo de instruções que, caso seguidas exatamente, resolvem o problema sendo considerado.\n",
    "\n",
    "Nosso objetivo na ciência da computação é considerar um problema e desenvolver um algoritmo que possa servir como uma solução genérica. Uma vez obtida tal solução, um computador pode ser utilizado para automatizar a execução. Dessa forma, programação é uma habilidade que permite ao cientista da computação pegar um algoritmo e representá-lo em uma notação (um programa) que possa ser executado por um computador. Esses programas são escritos utilizando linguagens de programação.\n",
    "\n",
    "De [O caminho do Programa](https://panda.ime.usp.br/pensepy/static/pensepy/01-Introducao/introducao.html)\n",
    "    "
   ]
  },
  {
   "cell_type": "code",
   "execution_count": null,
   "metadata": {},
   "outputs": [],
   "source": []
  }
 ],
 "metadata": {
  "kernelspec": {
   "display_name": "Python 3",
   "language": "python",
   "name": "python3"
  },
  "language_info": {
   "codemirror_mode": {
    "name": "ipython",
    "version": 3
   },
   "file_extension": ".py",
   "mimetype": "text/x-python",
   "name": "python",
   "nbconvert_exporter": "python",
   "pygments_lexer": "ipython3",
   "version": "3.6.3"
  }
 },
 "nbformat": 4,
 "nbformat_minor": 2
}
